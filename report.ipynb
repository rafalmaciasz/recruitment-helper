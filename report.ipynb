{
 "cells": [
  {
   "attachments": {},
   "cell_type": "markdown",
   "metadata": {},
   "source": [
    "<h1 style=\"text-align: center;\">Systemy wspomagania decyzji</h1>\n",
    "\n",
    "<h3 style=\"text-align: center;\">Projekt systemu wspomagania wyboru kierunku studiów</h3>"
   ]
  },
  {
   "attachments": {},
   "cell_type": "markdown",
   "metadata": {},
   "source": [
    "### Konwersja danych"
   ]
  },
  {
   "cell_type": "code",
   "execution_count": 5,
   "metadata": {},
   "outputs": [
    {
     "name": "stdout",
     "output_type": "stream",
     "text": [
      "<class 'numpy.float64'>\n"
     ]
    }
   ],
   "source": [
    "# from convert_db import convert2float\n",
    "\n",
    "# csv_name = 'SWD_DB.csv'\n",
    "# column = 'Procent zdawalności'\n",
    "\n",
    "# convert2float(csv_name, column)"
   ]
  },
  {
   "attachments": {},
   "cell_type": "markdown",
   "metadata": {},
   "source": [
    "### Podział bazy danych wg rodzaju kierunku"
   ]
  },
  {
   "cell_type": "code",
   "execution_count": 6,
   "metadata": {},
   "outputs": [],
   "source": [
    "# from select_by_type import select\n",
    "\n",
    "# csv_name = 'SWD_DB.csv'\n",
    "\n",
    "# select(csv_name)"
   ]
  }
 ],
 "metadata": {
  "kernelspec": {
   "display_name": "swd-proj",
   "language": "python",
   "name": "python3"
  },
  "language_info": {
   "codemirror_mode": {
    "name": "ipython",
    "version": 3
   },
   "file_extension": ".py",
   "mimetype": "text/x-python",
   "name": "python",
   "nbconvert_exporter": "python",
   "pygments_lexer": "ipython3",
   "version": "3.10.8 (main, Nov 24 2022, 14:13:03) [GCC 11.2.0]"
  },
  "orig_nbformat": 4,
  "vscode": {
   "interpreter": {
    "hash": "78a87ae6b359a3e0750c5453ed986e513e1dc3fb5cba114e84f1ecb9d0e6aee9"
   }
  }
 },
 "nbformat": 4,
 "nbformat_minor": 2
}
